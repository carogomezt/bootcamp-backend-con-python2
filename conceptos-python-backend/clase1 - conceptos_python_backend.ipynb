{
 "cells": [
  {
   "cell_type": "markdown",
   "id": "2a0b777d-fedc-4110-b537-4a8ea3cf725c",
   "metadata": {},
   "source": [
    "# Bootcamp Backend con Python V2"
   ]
  },
  {
   "cell_type": "markdown",
   "id": "e358065b-ca44-4871-a3a9-c4161f0b7d7f",
   "metadata": {},
   "source": [
    "## Clase 1: Conceptos de Python para el Backend\n",
    "## ¿Qué son los decoradores?\n",
    "Son un patrón de diseño en Python que permite agregar funcionalidades a un objeto existente (funciones) sin modificar su estructura."
   ]
  },
  {
   "cell_type": "code",
   "execution_count": 1,
   "id": "4677d9bd-40bc-46e8-9a6d-952b1765fead",
   "metadata": {},
   "outputs": [],
   "source": [
    "#@example_decorator\n",
    "def test_function():\n",
    "    return \"output\""
   ]
  },
  {
   "cell_type": "markdown",
   "id": "8dde72b0-9ae9-4941-84ca-0d6cf6118df5",
   "metadata": {},
   "source": [
    "### Cómo trabajan las funciones\n",
    "Las funciones son muy importantes en Python y estas retornan un valor de acuerdo a los argumentos que les pasamos:"
   ]
  },
  {
   "cell_type": "code",
   "execution_count": 2,
   "id": "3a1c464b-bffb-42d1-ae3e-9a4d929dbb3c",
   "metadata": {},
   "outputs": [
    {
     "data": {
      "text/plain": [
       "9"
      ]
     },
     "execution_count": 2,
     "metadata": {},
     "output_type": "execute_result"
    }
   ],
   "source": [
    "def plus_one(number):\n",
    "    return number + 1\n",
    "plus_one(8)"
   ]
  },
  {
   "cell_type": "markdown",
   "id": "cb216805-520a-44bf-8274-20ccf031f311",
   "metadata": {},
   "source": [
    "### Asignando funciones a variables"
   ]
  },
  {
   "cell_type": "code",
   "execution_count": 3,
   "id": "87b02332-cf15-4dbb-b546-3b4a980fb252",
   "metadata": {},
   "outputs": [
    {
     "data": {
      "text/plain": [
       "6"
      ]
     },
     "execution_count": 3,
     "metadata": {},
     "output_type": "execute_result"
    }
   ],
   "source": [
    "def plus_one(number):\n",
    "    return number + 1\n",
    "\n",
    "add_one = plus_one\n",
    "add_one(5)"
   ]
  },
  {
   "cell_type": "markdown",
   "id": "06c9180e-7930-40d4-b105-c77c4464d345",
   "metadata": {},
   "source": [
    "### Definiendo funciones dentro de otras funciones"
   ]
  },
  {
   "cell_type": "code",
   "execution_count": 4,
   "id": "9fad7220-4909-48b9-878a-e961980bcd79",
   "metadata": {},
   "outputs": [
    {
     "name": "stdout",
     "output_type": "stream",
     "text": [
      "Executing plus_one\n",
      "Executing add_one\n"
     ]
    },
    {
     "data": {
      "text/plain": [
       "5"
      ]
     },
     "execution_count": 4,
     "metadata": {},
     "output_type": "execute_result"
    }
   ],
   "source": [
    "def plus_one(number):\n",
    "    def add_one(number):\n",
    "        print(\"Executing add_one\")\n",
    "        return number + 1\n",
    "\n",
    "    print(\"Executing plus_one\")\n",
    "    result = add_one(number)\n",
    "    return result\n",
    "\n",
    "plus_one(4)"
   ]
  },
  {
   "cell_type": "markdown",
   "id": "49b0ff8e-24da-471c-924f-bb49b31c8847",
   "metadata": {},
   "source": [
    "### Pasando funciones como argumentos de otras funciones"
   ]
  },
  {
   "cell_type": "code",
   "execution_count": 5,
   "id": "04fa8559-8399-4433-95e5-4d315aa070d8",
   "metadata": {},
   "outputs": [
    {
     "name": "stdout",
     "output_type": "stream",
     "text": [
      "Executing function_call\n",
      "Executing plus_one\n"
     ]
    },
    {
     "data": {
      "text/plain": [
       "6"
      ]
     },
     "execution_count": 5,
     "metadata": {},
     "output_type": "execute_result"
    }
   ],
   "source": [
    "def plus_one(number):\n",
    "    print(\"Executing plus_one\")\n",
    "    return number + 1\n",
    "\n",
    "def function_call(function):\n",
    "    print(\"Executing function_call\")\n",
    "    number_to_add = 5\n",
    "    return function(number_to_add)\n",
    "\n",
    "function_call(plus_one)"
   ]
  },
  {
   "cell_type": "markdown",
   "id": "a40504b8-ee18-450c-91a6-a08266adb18f",
   "metadata": {},
   "source": [
    "### Funciones retornando otras funciones"
   ]
  },
  {
   "cell_type": "code",
   "execution_count": 6,
   "id": "115df9ef-35c8-499b-8e28-05581ab91255",
   "metadata": {},
   "outputs": [
    {
     "name": "stdout",
     "output_type": "stream",
     "text": [
      "Executing hello_function\n",
      "Executing say_hi\n"
     ]
    },
    {
     "data": {
      "text/plain": [
       "'Hi'"
      ]
     },
     "execution_count": 6,
     "metadata": {},
     "output_type": "execute_result"
    }
   ],
   "source": [
    "def hello_function():\n",
    "    def say_hi():\n",
    "        print(\"Executing say_hi\")\n",
    "        return \"Hi\"\n",
    "    print(\"Executing hello_function\")\n",
    "    return say_hi\n",
    "\n",
    "hello = hello_function()\n",
    "hello()"
   ]
  },
  {
   "cell_type": "markdown",
   "id": "085557f2-bf9a-4bff-8c93-e7b5484b0c30",
   "metadata": {},
   "source": [
    "### Las funciones anidadas tienen acceso al las variables de la función envolvente"
   ]
  },
  {
   "cell_type": "code",
   "execution_count": 7,
   "id": "2f692465-c106-4984-aafb-60f721f73b02",
   "metadata": {},
   "outputs": [
    {
     "name": "stdout",
     "output_type": "stream",
     "text": [
      "Some random message\n"
     ]
    }
   ],
   "source": [
    "def print_message(message):\n",
    "    \"\"\"Enclosing Function\"\"\"\n",
    "\n",
    "    def message_sender():\n",
    "        \"\"\"Nested Function\"\"\"\n",
    "\n",
    "        print(message)\n",
    "\n",
    "    message_sender()\n",
    "\n",
    "print_message(\"Some random message\")"
   ]
  },
  {
   "cell_type": "markdown",
   "id": "31c7d7c2-609a-48d4-b6dd-3563878a06ab",
   "metadata": {},
   "source": [
    "## Creando decoradores"
   ]
  },
  {
   "cell_type": "code",
   "execution_count": 8,
   "id": "48188821-5c4a-4ff6-8b2f-c2adaf9fe29d",
   "metadata": {},
   "outputs": [
    {
     "name": "stdout",
     "output_type": "stream",
     "text": [
      "Something is happening before the function is called.\n",
      "Whee!\n",
      "Something is happening after the function is called.\n"
     ]
    }
   ],
   "source": [
    "def my_decorator(func):\n",
    "    def wrapper():\n",
    "        print(\"Something is happening before the function is called.\")\n",
    "        func()\n",
    "        print(\"Something is happening after the function is called.\")\n",
    "    return wrapper\n",
    "\n",
    "def say_whee():\n",
    "    print(\"Whee!\")\n",
    "\n",
    "say_whee = my_decorator(say_whee)\n",
    "say_whee()"
   ]
  },
  {
   "cell_type": "code",
   "execution_count": 9,
   "id": "f26ee03e-1511-4cd6-b180-7ce795ab2329",
   "metadata": {},
   "outputs": [
    {
     "name": "stdout",
     "output_type": "stream",
     "text": [
      "Something is happening before the function is called.\n",
      "Whee!\n",
      "Something is happening after the function is called.\n"
     ]
    }
   ],
   "source": [
    "def my_decorator(func):\n",
    "    def wrapper():\n",
    "        print(\"Something is happening before the function is called.\")\n",
    "        func()\n",
    "        print(\"Something is happening after the function is called.\")\n",
    "    return wrapper\n",
    "\n",
    "@my_decorator\n",
    "def say_whee():\n",
    "    print(\"Whee!\")\n",
    "    \n",
    "say_whee()"
   ]
  },
  {
   "cell_type": "markdown",
   "id": "6e78cba9-84ea-4bba-b468-54c48f306df8",
   "metadata": {},
   "source": [
    "### Aplicando multiples decoradores a una misma función"
   ]
  },
  {
   "cell_type": "code",
   "execution_count": 10,
   "id": "dd321755-d435-4da9-b211-a340dcb11c72",
   "metadata": {},
   "outputs": [],
   "source": [
    "def uppercase_decorator(function):\n",
    "    print(\"Applying uppercase decorator\")\n",
    "    def wrapper():\n",
    "        func = function()\n",
    "        make_uppercase = func.upper()\n",
    "        return make_uppercase\n",
    "\n",
    "    return wrapper"
   ]
  },
  {
   "cell_type": "code",
   "execution_count": 11,
   "id": "6a935092-a4fd-4a7e-adad-8c539dbc6572",
   "metadata": {},
   "outputs": [],
   "source": [
    "def split_string(function):\n",
    "    print(\"Applying split decorator\")\n",
    "    def wrapper():\n",
    "        func = function()\n",
    "        splitted_string = func.split()\n",
    "        return splitted_string\n",
    "\n",
    "    return wrapper"
   ]
  },
  {
   "cell_type": "code",
   "execution_count": 12,
   "id": "a0f3ad5c-8617-43fe-9e4f-49b9ce486ddd",
   "metadata": {},
   "outputs": [
    {
     "name": "stdout",
     "output_type": "stream",
     "text": [
      "Applying uppercase decorator\n",
      "Applying split decorator\n"
     ]
    },
    {
     "data": {
      "text/plain": [
       "['HELLO', 'THERE']"
      ]
     },
     "execution_count": 12,
     "metadata": {},
     "output_type": "execute_result"
    }
   ],
   "source": [
    "@split_string\n",
    "@uppercase_decorator\n",
    "def say_hi():\n",
    "    return 'hello there'\n",
    "say_hi()"
   ]
  },
  {
   "cell_type": "markdown",
   "id": "a49022f6-d17f-4b9e-b7f5-2cb09df3c051",
   "metadata": {},
   "source": [
    "### Decorando funciones con argumentos"
   ]
  },
  {
   "cell_type": "code",
   "execution_count": 13,
   "id": "5b0394e0-194d-4ee4-9d8e-d3e6af0259fb",
   "metadata": {},
   "outputs": [
    {
     "name": "stdout",
     "output_type": "stream",
     "text": [
      "My arguments are: Pereira, Medellín\n",
      "Cities I love are Pereira and Medellín\n"
     ]
    }
   ],
   "source": [
    "def decorator_with_arguments(function):\n",
    "    def wrapper_accepting_arguments(arg1, arg2):\n",
    "        print(f\"My arguments are: {arg1}, {arg2}\")\n",
    "        function(arg1, arg2)\n",
    "    return wrapper_accepting_arguments\n",
    "\n",
    "\n",
    "@decorator_with_arguments\n",
    "def cities(city_one, city_two):\n",
    "    print(f\"Cities I love are {city_one} and {city_two}\")\n",
    "\n",
    "cities(\"Pereira\", \"Medellín\")"
   ]
  },
  {
   "cell_type": "markdown",
   "id": "bb6a4ee5-d86a-4397-ad5e-8db9ef101252",
   "metadata": {},
   "source": [
    "### Definiendo decoradores de propósito general"
   ]
  },
  {
   "cell_type": "code",
   "execution_count": 14,
   "id": "20d65934-e1ba-4ab5-b935-afa1fb23cae0",
   "metadata": {},
   "outputs": [
    {
     "name": "stdout",
     "output_type": "stream",
     "text": [
      "Showing *args:\n",
      "Arguments of *args: (1, 2, 'Hola')\n",
      "Showing **kwargs:\n",
      "first_name = Carolina\n",
      "last_name = Gomez\n"
     ]
    }
   ],
   "source": [
    "def test_args_and_kwargs(*args, **kwargs):\n",
    "    print(\"Showing *args:\")\n",
    "    for arg in args:\n",
    "        print(\"Arguments of *args:\", arg)\n",
    "    print(\"Showing **kwargs:\")\n",
    "    for key, value in kwargs.items():\n",
    "        print(f\"{key} = {value}\")\n",
    "\n",
    "args = (1, 2, \"Hola\")\n",
    "kwargs = {\"first_name\": \"Carolina\", \"last_name\": \"Gomez\"}\n",
    "test_args_and_kwargs(args, **kwargs)"
   ]
  },
  {
   "cell_type": "code",
   "execution_count": 15,
   "id": "ca1011ff-14ee-4db4-834c-c5d624a172f6",
   "metadata": {},
   "outputs": [
    {
     "name": "stdout",
     "output_type": "stream",
     "text": [
      "The positional arguments are (1, 2, 3)\n",
      "The keyword arguments are {}\n",
      "1 2 3\n"
     ]
    }
   ],
   "source": [
    "def a_decorator_passing_arbitrary_arguments(function_to_decorate):\n",
    "    def a_wrapper_accepting_arbitrary_arguments(*args,**kwargs):\n",
    "        print('The positional arguments are', args)\n",
    "        print('The keyword arguments are', kwargs)\n",
    "        function_to_decorate(*args, **kwargs)\n",
    "    return a_wrapper_accepting_arbitrary_arguments\n",
    "\n",
    "@a_decorator_passing_arbitrary_arguments\n",
    "def function_with_arguments(a, b, c):\n",
    "    print(a, b, c)\n",
    "\n",
    "function_with_arguments(1,2,3)"
   ]
  },
  {
   "cell_type": "code",
   "execution_count": 16,
   "id": "52b5b201-24f5-4e32-a85b-1bd55300107c",
   "metadata": {},
   "outputs": [
    {
     "name": "stdout",
     "output_type": "stream",
     "text": [
      "The positional arguments are ()\n",
      "The keyword arguments are {'first_name': 'Derrick', 'last_name': 'Mwiti'}\n",
      "This has shown keyword arguments: \n",
      "first_name: Derrick\n",
      "last_name: Mwiti\n",
      "country: Colombia\n"
     ]
    }
   ],
   "source": [
    "@a_decorator_passing_arbitrary_arguments\n",
    "def function_with_keyword_arguments(first_name=\"\", last_name=\"\", country=\"Colombia\"):\n",
    "    print(f\"This has shown keyword arguments: \")\n",
    "    print(f\"first_name: {first_name}\")\n",
    "    print(f\"last_name: {last_name}\")\n",
    "    print(f\"country: {country}\")\n",
    "\n",
    "function_with_keyword_arguments(first_name=\"Derrick\", last_name=\"Mwiti\")"
   ]
  },
  {
   "cell_type": "markdown",
   "id": "7827a857-ea7f-4c62-b7de-876d1773e901",
   "metadata": {},
   "source": [
    "### Pasando argumentos al decorador"
   ]
  },
  {
   "cell_type": "code",
   "execution_count": 17,
   "id": "0025540a-7789-467c-98d9-6f1d17b2616b",
   "metadata": {},
   "outputs": [
    {
     "name": "stdout",
     "output_type": "stream",
     "text": [
      "The wrapper can access all the variables\n",
      "\t- from the decorator maker: Pandas Numpy Scikit-learn\n",
      "\t- from the function call: Pandas Science Tools\n",
      "and pass them to the decorated function\n",
      "This is the decorated function and it only knows about its arguments: \n",
      "Pandas Science Tools\n"
     ]
    }
   ],
   "source": [
    "def decorator_maker_with_arguments(decorator_arg1, decorator_arg2, decorator_arg3):\n",
    "    def decorator(func):\n",
    "        def wrapper(function_arg1, function_arg2, function_arg3) :\n",
    "            \"\"\"This is the wrapper function\"\"\"\n",
    "            \n",
    "            print(f\"The wrapper can access all the variables\\n\"\n",
    "                  f\"\\t- from the decorator maker: {decorator_arg1} {decorator_arg2} {decorator_arg3}\\n\"\n",
    "                  f\"\\t- from the function call: {function_arg1} {function_arg2} {function_arg3}\\n\"\n",
    "                  f\"and pass them to the decorated function\")\n",
    "            return func(function_arg1, function_arg2, function_arg3)\n",
    "\n",
    "        return wrapper\n",
    "\n",
    "    return decorator\n",
    "\n",
    "pandas = \"Pandas\"\n",
    "@decorator_maker_with_arguments(pandas, \"Numpy\",\"Scikit-learn\")\n",
    "def decorated_function_with_arguments(function_arg1, function_arg2, function_arg3):\n",
    "    print(\"This is the decorated function and it only knows about its arguments: \")\n",
    "    print(f\"{function_arg1} {function_arg2} {function_arg3}\")\n",
    "\n",
    "decorated_function_with_arguments(pandas, \"Science\", \"Tools\")"
   ]
  },
  {
   "cell_type": "markdown",
   "id": "fe0bccc2-dcfd-4382-81b2-d91730806912",
   "metadata": {},
   "source": [
    "### Debugueando decoradores"
   ]
  },
  {
   "cell_type": "code",
   "execution_count": 18,
   "id": "e9af96d0-0960-4e65-bbaa-1303312547f9",
   "metadata": {},
   "outputs": [
    {
     "name": "stdout",
     "output_type": "stream",
     "text": [
      "Hi! You are happy!\n",
      "Function name: speak\n",
      "Function doc: Returns a neutral message\n",
      "Function name with decorator: wrapper\n",
      "Function doc with decorator: None\n"
     ]
    }
   ],
   "source": [
    "# decorator\n",
    "def make_geek_happy(func):\n",
    "    def wrapper():\n",
    "        neutral_message = func()\n",
    "        happy_message = neutral_message + \" You are happy!\"\n",
    "        return happy_message\n",
    "    return wrapper\n",
    "  \n",
    "def speak():\n",
    "    \"\"\"Returns a neutral message\"\"\"\n",
    "    return \"Hi!\"\n",
    "  \n",
    "  \n",
    "# wrapping the function in the decorator\n",
    "# and assigning it to positive_message\n",
    "positive_message = make_geek_happy(speak)\n",
    "  \n",
    "print(positive_message())\n",
    "  \n",
    "print(f\"Function name: {speak.__name__}\") \n",
    "print(f\"Function doc: {speak.__doc__}\") \n",
    "print(f\"Function name with decorator: {positive_message.__name__}\")\n",
    "print(f\"Function doc with decorator: {positive_message.__doc__}\")"
   ]
  },
  {
   "cell_type": "code",
   "execution_count": 19,
   "id": "211258b1-470b-4aec-9f93-c0b959a341e5",
   "metadata": {},
   "outputs": [
    {
     "name": "stdout",
     "output_type": "stream",
     "text": [
      "Hi! You are happy!\n",
      "Function name: speak\n",
      "Function doc: Returns a neutral message\n",
      "Function name with decorator: speak\n",
      "Function doc with decorator: Returns a neutral message\n"
     ]
    }
   ],
   "source": [
    "# importing the module\n",
    "import functools\n",
    "  \n",
    "# decorator\n",
    "def make_geek_happy(func):\n",
    "    @functools.wraps(func)\n",
    "    def wrapper():\n",
    "        neutral_message = func()\n",
    "        happy_message = neutral_message + \" You are happy!\"\n",
    "        return happy_message\n",
    "    return wrapper\n",
    "  \n",
    "def speak():\n",
    "    \"\"\"Returns a neutral message\"\"\"\n",
    "    return \"Hi!\"\n",
    "  \n",
    "positive_message = make_geek_happy(speak)\n",
    "print(positive_message())\n",
    "  \n",
    "print(f\"Function name: {speak.__name__}\") \n",
    "print(f\"Function doc: {speak.__doc__}\") \n",
    "print(f\"Function name with decorator: {positive_message.__name__}\")\n",
    "print(f\"Function doc with decorator: {positive_message.__doc__}\")"
   ]
  },
  {
   "cell_type": "markdown",
   "id": "d7c87eee-cb16-4c8b-9c29-95e082c8b654",
   "metadata": {},
   "source": [
    "## Funciones Lambda\n",
    "Son también conocidas como funciones anónimas y son funciones que pueden definir cualquier número de parámetros pero una única expresión. Esta expresión es evaluada y devuelta."
   ]
  },
  {
   "cell_type": "code",
   "execution_count": 20,
   "id": "11a6797c-6cb4-458c-ae6e-53d5d78c55c6",
   "metadata": {},
   "outputs": [],
   "source": [
    "cuadrado = lambda x: x ** 2"
   ]
  },
  {
   "cell_type": "code",
   "execution_count": 21,
   "id": "441b61ee-b997-47ed-926a-663b3801aeb1",
   "metadata": {},
   "outputs": [
    {
     "name": "stdout",
     "output_type": "stream",
     "text": [
      "16\n"
     ]
    }
   ],
   "source": [
    "print(cuadrado(4))"
   ]
  },
  {
   "cell_type": "markdown",
   "id": "fae269eb-2955-4ed6-945b-a035f7c016bc",
   "metadata": {},
   "source": [
    "### Uso apropiado de las funciones lambda\n",
    "#### `map()`\n",
    "La función map() en Python aplica una función a cada uno de los elementos de una lista."
   ]
  },
  {
   "cell_type": "code",
   "execution_count": 22,
   "id": "829ba118-ef23-432f-b18a-f20111bc85b4",
   "metadata": {},
   "outputs": [
    {
     "name": "stdout",
     "output_type": "stream",
     "text": [
      "[1, 4, 16, 49]\n"
     ]
    }
   ],
   "source": [
    "enteros = [1, 2, 4, 7]\n",
    "cuadrados = []\n",
    "for e in enteros:\n",
    "    cuadrados.append(e ** 2)\n",
    "     \n",
    "print(cuadrados)"
   ]
  },
  {
   "cell_type": "code",
   "execution_count": 23,
   "id": "1bc53af7-5d2f-440b-86ad-29a821fda0cd",
   "metadata": {},
   "outputs": [
    {
     "name": "stdout",
     "output_type": "stream",
     "text": [
      "[1, 4, 16, 49]\n"
     ]
    }
   ],
   "source": [
    "enteros = [1, 2, 4, 7]\n",
    "cuadrados = list(map(lambda x : x ** 2, enteros))\n",
    "print(cuadrados)"
   ]
  },
  {
   "cell_type": "markdown",
   "id": "90f83f3d-b6e2-4e20-9476-89caedd18b2c",
   "metadata": {},
   "source": [
    "#### `filter()`\n",
    "La función filter() filtra una lista de elementos para los que una función devuelve True."
   ]
  },
  {
   "cell_type": "code",
   "execution_count": 25,
   "id": "40312582-af9f-47c4-9737-74b81ef83edf",
   "metadata": {},
   "outputs": [
    {
     "name": "stdout",
     "output_type": "stream",
     "text": [
      "Pares->  [2, 4, 6, 8]\n"
     ]
    }
   ],
   "source": [
    "valores = [1, 2, 3, 4, 5, 6, 7, 8, 9]\n",
    "pares = []\n",
    "for valor in valores:\n",
    "    if valor % 2 == 0:\n",
    "        pares.append(valor)\n",
    "print(\"Pares-> \", pares)"
   ]
  },
  {
   "cell_type": "code",
   "execution_count": 26,
   "id": "10b24176-1c24-4bc0-a6ec-27bf4df70ef6",
   "metadata": {},
   "outputs": [
    {
     "name": "stdout",
     "output_type": "stream",
     "text": [
      "Pares->  [2, 4, 6, 8]\n"
     ]
    }
   ],
   "source": [
    "valores = [1, 2, 3, 4, 5, 6, 7, 8, 9]\n",
    "pares = list(filter(lambda x : x % 2 == 0, valores))\n",
    "print(\"Pares-> \", pares)"
   ]
  },
  {
   "cell_type": "markdown",
   "id": "65c0c56c-5ddb-4e42-b37d-2060ce313684",
   "metadata": {},
   "source": [
    "#### `reduce()`\n",
    "Esta función se utiliza principalmente para llevar a cabo un cálculo acumulativo sobre una lista de valores y devolver el resultado."
   ]
  },
  {
   "cell_type": "code",
   "execution_count": 27,
   "id": "9035809f-4c5b-43b1-b18f-e0a8fc0c27fc",
   "metadata": {},
   "outputs": [
    {
     "name": "stdout",
     "output_type": "stream",
     "text": [
      "21\n"
     ]
    }
   ],
   "source": [
    "valores = [2, 4, 6, 5, 4]\n",
    "suma = 0\n",
    "for el in valores:\n",
    "    suma += el\n",
    "print(suma)"
   ]
  },
  {
   "cell_type": "code",
   "execution_count": 28,
   "id": "2a171ddf-14eb-4f20-9652-748a58510a04",
   "metadata": {},
   "outputs": [
    {
     "name": "stdout",
     "output_type": "stream",
     "text": [
      "21\n"
     ]
    }
   ],
   "source": [
    "from functools import reduce\n",
    "suma = reduce(lambda x, y: x + y, valores)\n",
    "print(suma)"
   ]
  },
  {
   "cell_type": "markdown",
   "id": "2e0d00c0-aaf8-4a18-8763-71f5d896290f",
   "metadata": {},
   "source": [
    "#### `sorted()`\n",
    "Esta función ordena una lista en forma lexicográfica."
   ]
  },
  {
   "cell_type": "code",
   "execution_count": 29,
   "id": "a8063494-d555-4fd7-8575-fee6ed028ebc",
   "metadata": {},
   "outputs": [
    {
     "name": "stdout",
     "output_type": "stream",
     "text": [
      "['id1', 'id100', 'id2', 'id22', 'id3', 'id30']\n"
     ]
    }
   ],
   "source": [
    "ids = ['id1', 'id2', 'id30', 'id3', 'id22', 'id100']\n",
    "print(sorted(ids)) # Lexicographic sort"
   ]
  },
  {
   "cell_type": "code",
   "execution_count": 30,
   "id": "6045e46c-6d76-45c5-8f1e-7f9df1655684",
   "metadata": {},
   "outputs": [
    {
     "name": "stdout",
     "output_type": "stream",
     "text": [
      "['id1', 'id2', 'id3', 'id22', 'id30', 'id100']\n"
     ]
    }
   ],
   "source": [
    "sorted_ids = sorted(ids, key=lambda x: int(x[2:])) # Integer sort\n",
    "print(sorted_ids)"
   ]
  },
  {
   "cell_type": "markdown",
   "id": "e0bd2620-1d2a-48f6-820c-62a9ea35637f",
   "metadata": {},
   "source": [
    "## Properties\n",
    "Las properties son la forma pythonica de evitar la creación de métodos para obtener y modificar atributos de una clase. Esta función nos ayuda a convertir atributos de una clase en properties o managed attributes."
   ]
  },
  {
   "cell_type": "code",
   "execution_count": 31,
   "id": "b4b31529-2312-4bca-b99d-bfdb5671e1e3",
   "metadata": {},
   "outputs": [],
   "source": [
    "class Point:\n",
    "    def __init__(self, x, y):\n",
    "        self._x = x\n",
    "        self._y = y\n",
    "\n",
    "    def get_x(self):\n",
    "        return self._x\n",
    "\n",
    "    def set_x(self, value):\n",
    "        self._x = value\n",
    "\n",
    "    def get_y(self):\n",
    "        return self._y\n",
    "\n",
    "    def set_y(self, value):\n",
    "        self._y = value"
   ]
  },
  {
   "cell_type": "code",
   "execution_count": 33,
   "id": "3fd7cc68-1e9a-48a7-acc5-57195f21408e",
   "metadata": {},
   "outputs": [],
   "source": [
    "point = Point(5, 9)"
   ]
  },
  {
   "cell_type": "code",
   "execution_count": 34,
   "id": "55b24b42-a482-4eed-9d16-42a35d1e32da",
   "metadata": {},
   "outputs": [
    {
     "data": {
      "text/plain": [
       "5"
      ]
     },
     "execution_count": 34,
     "metadata": {},
     "output_type": "execute_result"
    }
   ],
   "source": [
    "point.get_x()"
   ]
  },
  {
   "cell_type": "code",
   "execution_count": 35,
   "id": "8f35e10a-afd0-487f-8742-7daca03de39b",
   "metadata": {},
   "outputs": [
    {
     "data": {
      "text/plain": [
       "9"
      ]
     },
     "execution_count": 35,
     "metadata": {},
     "output_type": "execute_result"
    }
   ],
   "source": [
    "point.get_y()"
   ]
  },
  {
   "cell_type": "code",
   "execution_count": 36,
   "id": "33a5eade-8638-4a09-ad63-3d2abb1d699b",
   "metadata": {},
   "outputs": [],
   "source": [
    "point.set_x(8)"
   ]
  },
  {
   "cell_type": "code",
   "execution_count": 37,
   "id": "2b8c4b57-c2d3-465e-8662-379439110fa6",
   "metadata": {},
   "outputs": [
    {
     "data": {
      "text/plain": [
       "8"
      ]
     },
     "execution_count": 37,
     "metadata": {},
     "output_type": "execute_result"
    }
   ],
   "source": [
    "point.get_x()"
   ]
  },
  {
   "cell_type": "code",
   "execution_count": 38,
   "id": "30b7f779-91a9-4ca7-8479-031b5edf9b2b",
   "metadata": {},
   "outputs": [
    {
     "data": {
      "text/plain": [
       "8"
      ]
     },
     "execution_count": 38,
     "metadata": {},
     "output_type": "execute_result"
    }
   ],
   "source": [
    "point._x"
   ]
  },
  {
   "cell_type": "markdown",
   "id": "8ad678bd-5ea7-4667-9714-779c3c278325",
   "metadata": {},
   "source": [
    "### Creando properties con la inicialización de la función `property()`"
   ]
  },
  {
   "cell_type": "code",
   "execution_count": 39,
   "id": "9b72e5e0-6555-449b-85f0-a84a136270c8",
   "metadata": {},
   "outputs": [],
   "source": [
    "class Circle:\n",
    "    def __init__(self, radius):\n",
    "        self._radius = radius\n",
    "\n",
    "    def _get_radius(self):\n",
    "        print(\"Get radius\")\n",
    "        return self._radius\n",
    "\n",
    "    def _set_radius(self, value):\n",
    "        print(\"Set radius\")\n",
    "        self._radius = value\n",
    "\n",
    "    def _del_radius(self):\n",
    "        print(\"Delete radius\")\n",
    "        del self._radius\n",
    "\n",
    "    radius = property(\n",
    "        fget=_get_radius,\n",
    "        fset=_set_radius,\n",
    "        fdel=_del_radius,\n",
    "        doc=\"The radius property.\"\n",
    "    )"
   ]
  },
  {
   "cell_type": "code",
   "execution_count": 40,
   "id": "7df35c32-967a-4b1b-9ab5-eebc3707f35d",
   "metadata": {},
   "outputs": [],
   "source": [
    "circle = Circle(42.0)"
   ]
  },
  {
   "cell_type": "code",
   "execution_count": 41,
   "id": "03bf60ed-b5f2-4ddd-bb0d-0dc8bb20f6ac",
   "metadata": {},
   "outputs": [
    {
     "name": "stdout",
     "output_type": "stream",
     "text": [
      "Get radius\n"
     ]
    },
    {
     "data": {
      "text/plain": [
       "42.0"
      ]
     },
     "execution_count": 41,
     "metadata": {},
     "output_type": "execute_result"
    }
   ],
   "source": [
    "circle.radius"
   ]
  },
  {
   "cell_type": "code",
   "execution_count": 42,
   "id": "f1d5070f-dbc8-4d7f-bc69-73558c1c3740",
   "metadata": {},
   "outputs": [
    {
     "name": "stdout",
     "output_type": "stream",
     "text": [
      "Set radius\n"
     ]
    }
   ],
   "source": [
    "circle.radius = 50"
   ]
  },
  {
   "cell_type": "code",
   "execution_count": 43,
   "id": "b6c2c95c-a064-49bd-aac6-8930f74c843e",
   "metadata": {},
   "outputs": [
    {
     "name": "stdout",
     "output_type": "stream",
     "text": [
      "Get radius\n"
     ]
    },
    {
     "data": {
      "text/plain": [
       "50"
      ]
     },
     "execution_count": 43,
     "metadata": {},
     "output_type": "execute_result"
    }
   ],
   "source": [
    "circle.radius"
   ]
  },
  {
   "cell_type": "code",
   "execution_count": 44,
   "id": "27ac73a7-f21a-4019-a6b8-eeb12315306d",
   "metadata": {},
   "outputs": [
    {
     "name": "stdout",
     "output_type": "stream",
     "text": [
      "Delete radius\n"
     ]
    }
   ],
   "source": [
    "del circle.radius"
   ]
  },
  {
   "cell_type": "code",
   "execution_count": 45,
   "id": "0c4ffaff-e56b-4c97-b833-66cb0f4833c8",
   "metadata": {},
   "outputs": [
    {
     "name": "stdout",
     "output_type": "stream",
     "text": [
      "Get radius\n"
     ]
    },
    {
     "ename": "AttributeError",
     "evalue": "'Circle' object has no attribute '_radius'",
     "output_type": "error",
     "traceback": [
      "\u001b[0;31m---------------------------------------------------------------------------\u001b[0m",
      "\u001b[0;31mAttributeError\u001b[0m                            Traceback (most recent call last)",
      "Cell \u001b[0;32mIn[45], line 1\u001b[0m\n\u001b[0;32m----> 1\u001b[0m \u001b[43mcircle\u001b[49m\u001b[38;5;241;43m.\u001b[39;49m\u001b[43mradius\u001b[49m\n",
      "Cell \u001b[0;32mIn[39], line 7\u001b[0m, in \u001b[0;36mCircle._get_radius\u001b[0;34m(self)\u001b[0m\n\u001b[1;32m      5\u001b[0m \u001b[38;5;28;01mdef\u001b[39;00m \u001b[38;5;21m_get_radius\u001b[39m(\u001b[38;5;28mself\u001b[39m):\n\u001b[1;32m      6\u001b[0m     \u001b[38;5;28mprint\u001b[39m(\u001b[38;5;124m\"\u001b[39m\u001b[38;5;124mGet radius\u001b[39m\u001b[38;5;124m\"\u001b[39m)\n\u001b[0;32m----> 7\u001b[0m     \u001b[38;5;28;01mreturn\u001b[39;00m \u001b[38;5;28;43mself\u001b[39;49m\u001b[38;5;241;43m.\u001b[39;49m\u001b[43m_radius\u001b[49m\n",
      "\u001b[0;31mAttributeError\u001b[0m: 'Circle' object has no attribute '_radius'"
     ]
    }
   ],
   "source": [
    "circle.radius"
   ]
  },
  {
   "cell_type": "markdown",
   "id": "b6480c8d-445c-43f2-afcf-23ea7821dd74",
   "metadata": {},
   "source": [
    "### Usando `property()` como decorador"
   ]
  },
  {
   "cell_type": "code",
   "execution_count": 46,
   "id": "535b699e-d3cb-45c6-b32e-ddf7c786b015",
   "metadata": {},
   "outputs": [],
   "source": [
    "class Circle:\n",
    "    def __init__(self, radius):\n",
    "        self._radius = radius\n",
    "\n",
    "    @property\n",
    "    def radius(self):\n",
    "        \"\"\"The radius property.\"\"\"\n",
    "        print(\"Get radius\")\n",
    "        return self._radius\n",
    "\n",
    "    @radius.setter\n",
    "    def radius(self, value):\n",
    "        print(\"Set radius\")\n",
    "        self._radius = value\n",
    "\n",
    "    @radius.deleter\n",
    "    def radius(self):\n",
    "        print(\"Delete radius\")\n",
    "        del self._radius"
   ]
  },
  {
   "cell_type": "code",
   "execution_count": 47,
   "id": "b94c4aef-078c-46a5-a416-7aa1973d6c8f",
   "metadata": {},
   "outputs": [],
   "source": [
    "circle = Circle(42.0)"
   ]
  },
  {
   "cell_type": "code",
   "execution_count": 48,
   "id": "c79a8209-6430-4172-9f1a-a691844dd488",
   "metadata": {},
   "outputs": [
    {
     "name": "stdout",
     "output_type": "stream",
     "text": [
      "Get radius\n"
     ]
    },
    {
     "data": {
      "text/plain": [
       "42.0"
      ]
     },
     "execution_count": 48,
     "metadata": {},
     "output_type": "execute_result"
    }
   ],
   "source": [
    "circle.radius"
   ]
  },
  {
   "cell_type": "code",
   "execution_count": 49,
   "id": "83544895-dbc5-4495-9558-099dd713ea12",
   "metadata": {},
   "outputs": [
    {
     "name": "stdout",
     "output_type": "stream",
     "text": [
      "Set radius\n"
     ]
    }
   ],
   "source": [
    "circle.radius = 50"
   ]
  },
  {
   "cell_type": "code",
   "execution_count": 50,
   "id": "50c56ebb-965c-4cee-a30e-f340f2e083b5",
   "metadata": {},
   "outputs": [
    {
     "name": "stdout",
     "output_type": "stream",
     "text": [
      "Get radius\n"
     ]
    },
    {
     "data": {
      "text/plain": [
       "50"
      ]
     },
     "execution_count": 50,
     "metadata": {},
     "output_type": "execute_result"
    }
   ],
   "source": [
    "circle.radius"
   ]
  },
  {
   "cell_type": "code",
   "execution_count": 51,
   "id": "6c15901e-d849-4515-8b14-fc2302cc78a3",
   "metadata": {},
   "outputs": [
    {
     "name": "stdout",
     "output_type": "stream",
     "text": [
      "Delete radius\n"
     ]
    }
   ],
   "source": [
    "del circle.radius"
   ]
  },
  {
   "cell_type": "code",
   "execution_count": 52,
   "id": "254fa8c1-b625-4682-8759-57d96d05f4fa",
   "metadata": {},
   "outputs": [
    {
     "name": "stdout",
     "output_type": "stream",
     "text": [
      "Get radius\n"
     ]
    },
    {
     "ename": "AttributeError",
     "evalue": "'Circle' object has no attribute '_radius'",
     "output_type": "error",
     "traceback": [
      "\u001b[0;31m---------------------------------------------------------------------------\u001b[0m",
      "\u001b[0;31mAttributeError\u001b[0m                            Traceback (most recent call last)",
      "Cell \u001b[0;32mIn[52], line 1\u001b[0m\n\u001b[0;32m----> 1\u001b[0m \u001b[43mcircle\u001b[49m\u001b[38;5;241;43m.\u001b[39;49m\u001b[43mradius\u001b[49m\n",
      "Cell \u001b[0;32mIn[46], line 9\u001b[0m, in \u001b[0;36mCircle.radius\u001b[0;34m(self)\u001b[0m\n\u001b[1;32m      7\u001b[0m \u001b[38;5;250m\u001b[39m\u001b[38;5;124;03m\"\"\"The radius property.\"\"\"\u001b[39;00m\n\u001b[1;32m      8\u001b[0m \u001b[38;5;28mprint\u001b[39m(\u001b[38;5;124m\"\u001b[39m\u001b[38;5;124mGet radius\u001b[39m\u001b[38;5;124m\"\u001b[39m)\n\u001b[0;32m----> 9\u001b[0m \u001b[38;5;28;01mreturn\u001b[39;00m \u001b[38;5;28;43mself\u001b[39;49m\u001b[38;5;241;43m.\u001b[39;49m\u001b[43m_radius\u001b[49m\n",
      "\u001b[0;31mAttributeError\u001b[0m: 'Circle' object has no attribute '_radius'"
     ]
    }
   ],
   "source": [
    "circle.radius"
   ]
  },
  {
   "cell_type": "markdown",
   "id": "b05fac00-439d-4373-90a4-516711fc043a",
   "metadata": {},
   "source": [
    "#### Creando atributos de solo lectura"
   ]
  },
  {
   "cell_type": "code",
   "execution_count": 53,
   "id": "48a34671-6932-4ba8-8e58-cfdcc61fa914",
   "metadata": {},
   "outputs": [],
   "source": [
    "class Point:\n",
    "    def __init__(self, x, y):\n",
    "        self._x = x\n",
    "        self._y = y\n",
    "\n",
    "    @property\n",
    "    def x(self):\n",
    "        return self._x\n",
    "\n",
    "    @property\n",
    "    def y(self):\n",
    "        return self._y"
   ]
  },
  {
   "cell_type": "code",
   "execution_count": 54,
   "id": "cb28aaf5-9e2e-41e8-ae9c-26d7f5cfcac0",
   "metadata": {},
   "outputs": [],
   "source": [
    "point = Point(12, 5)"
   ]
  },
  {
   "cell_type": "code",
   "execution_count": 55,
   "id": "ff45c1ef-feb8-45ea-aafe-a8e1b57c68e5",
   "metadata": {},
   "outputs": [
    {
     "data": {
      "text/plain": [
       "12"
      ]
     },
     "execution_count": 55,
     "metadata": {},
     "output_type": "execute_result"
    }
   ],
   "source": [
    "point.x"
   ]
  },
  {
   "cell_type": "code",
   "execution_count": 56,
   "id": "7ec8f718-882e-4017-9119-15a674bccf11",
   "metadata": {},
   "outputs": [
    {
     "data": {
      "text/plain": [
       "5"
      ]
     },
     "execution_count": 56,
     "metadata": {},
     "output_type": "execute_result"
    }
   ],
   "source": [
    "point.y"
   ]
  },
  {
   "cell_type": "code",
   "execution_count": 57,
   "id": "52ad8519-2440-4c67-a5d5-8f04616421a1",
   "metadata": {},
   "outputs": [
    {
     "ename": "AttributeError",
     "evalue": "property 'x' of 'Point' object has no setter",
     "output_type": "error",
     "traceback": [
      "\u001b[0;31m---------------------------------------------------------------------------\u001b[0m",
      "\u001b[0;31mAttributeError\u001b[0m                            Traceback (most recent call last)",
      "Cell \u001b[0;32mIn[57], line 1\u001b[0m\n\u001b[0;32m----> 1\u001b[0m \u001b[43mpoint\u001b[49m\u001b[38;5;241;43m.\u001b[39;49m\u001b[43mx\u001b[49m \u001b[38;5;241m=\u001b[39m \u001b[38;5;241m10\u001b[39m\n",
      "\u001b[0;31mAttributeError\u001b[0m: property 'x' of 'Point' object has no setter"
     ]
    }
   ],
   "source": [
    "point.x = 10"
   ]
  },
  {
   "cell_type": "markdown",
   "id": "1bc8c7e5-58b9-44f0-b510-2085133378b6",
   "metadata": {},
   "source": [
    "#### Creando atributos de solo escritura"
   ]
  },
  {
   "cell_type": "code",
   "execution_count": 58,
   "id": "68fed35d-d579-4e7c-921b-df9ff20d31b9",
   "metadata": {},
   "outputs": [],
   "source": [
    "import hashlib\n",
    "import os\n",
    "\n",
    "class User:\n",
    "    def __init__(self, name, password):\n",
    "        self.name = name\n",
    "        self.password = password\n",
    "\n",
    "    @property\n",
    "    def password(self):\n",
    "        raise AttributeError(\"Password is write-only\")\n",
    "\n",
    "    @password.setter\n",
    "    def password(self, plaintext):\n",
    "        salt = os.urandom(32)\n",
    "        self._hashed_password = hashlib.pbkdf2_hmac(\n",
    "            \"sha256\", plaintext.encode(\"utf-8\"), salt, 100_000\n",
    "        )"
   ]
  },
  {
   "cell_type": "code",
   "execution_count": 59,
   "id": "0d0082dc-7753-4ccb-b24f-e2a5ebad542f",
   "metadata": {},
   "outputs": [],
   "source": [
    "user = User(\"Carolina\", \"secure_password\")"
   ]
  },
  {
   "cell_type": "code",
   "execution_count": 60,
   "id": "10161fb9-8824-4783-8a7a-d548e6d41bf8",
   "metadata": {},
   "outputs": [
    {
     "ename": "AttributeError",
     "evalue": "Password is write-only",
     "output_type": "error",
     "traceback": [
      "\u001b[0;31m---------------------------------------------------------------------------\u001b[0m",
      "\u001b[0;31mAttributeError\u001b[0m                            Traceback (most recent call last)",
      "Cell \u001b[0;32mIn[60], line 1\u001b[0m\n\u001b[0;32m----> 1\u001b[0m \u001b[43muser\u001b[49m\u001b[38;5;241;43m.\u001b[39;49m\u001b[43mpassword\u001b[49m\n",
      "Cell \u001b[0;32mIn[58], line 11\u001b[0m, in \u001b[0;36mUser.password\u001b[0;34m(self)\u001b[0m\n\u001b[1;32m      9\u001b[0m \u001b[38;5;129m@property\u001b[39m\n\u001b[1;32m     10\u001b[0m \u001b[38;5;28;01mdef\u001b[39;00m \u001b[38;5;21mpassword\u001b[39m(\u001b[38;5;28mself\u001b[39m):\n\u001b[0;32m---> 11\u001b[0m     \u001b[38;5;28;01mraise\u001b[39;00m \u001b[38;5;167;01mAttributeError\u001b[39;00m(\u001b[38;5;124m\"\u001b[39m\u001b[38;5;124mPassword is write-only\u001b[39m\u001b[38;5;124m\"\u001b[39m)\n",
      "\u001b[0;31mAttributeError\u001b[0m: Password is write-only"
     ]
    }
   ],
   "source": [
    "user.password"
   ]
  },
  {
   "cell_type": "code",
   "execution_count": 61,
   "id": "6763fc27-62d1-4695-a55b-aef8ef2f6a04",
   "metadata": {},
   "outputs": [],
   "source": [
    "user.password = \"another_Secure_password\""
   ]
  },
  {
   "cell_type": "markdown",
   "id": "b8d596b6-77c3-45f3-b18d-14e09845b603",
   "metadata": {},
   "source": [
    "### Algunos casos de uso de las `properties()`\n",
    "#### 1. Validando atributos"
   ]
  },
  {
   "cell_type": "code",
   "execution_count": 62,
   "id": "2ad33530-f267-4388-9755-03f215c61ee3",
   "metadata": {},
   "outputs": [],
   "source": [
    "class Point:\n",
    "    def __init__(self, x, y):\n",
    "        self.x = x\n",
    "        self.y = y\n",
    "\n",
    "    @property\n",
    "    def x(self):\n",
    "        return self._x\n",
    "\n",
    "    @x.setter\n",
    "    def x(self, value):\n",
    "        try:\n",
    "            self._x = float(value)\n",
    "            print(\"Validated!\")\n",
    "        except ValueError:\n",
    "            raise ValueError('\"x\" must be a number') from None\n",
    "\n",
    "    @property\n",
    "    def y(self):\n",
    "        return self._y\n",
    "\n",
    "    @y.setter\n",
    "    def y(self, value):\n",
    "        try:\n",
    "            self._y = float(value)\n",
    "            print(\"Validated!\")\n",
    "        except ValueError:\n",
    "            raise ValueError('\"y\" must be a number') from None"
   ]
  },
  {
   "cell_type": "code",
   "execution_count": 63,
   "id": "fd1a24ba-9e19-4127-8e29-e0327ba8c197",
   "metadata": {},
   "outputs": [
    {
     "name": "stdout",
     "output_type": "stream",
     "text": [
      "Validated!\n",
      "Validated!\n"
     ]
    }
   ],
   "source": [
    "point = Point(2, 5)"
   ]
  },
  {
   "cell_type": "code",
   "execution_count": 64,
   "id": "721b2554-b4b2-49b3-99db-faac2df4be48",
   "metadata": {},
   "outputs": [
    {
     "ename": "ValueError",
     "evalue": "\"x\" must be a number",
     "output_type": "error",
     "traceback": [
      "\u001b[0;31m---------------------------------------------------------------------------\u001b[0m",
      "\u001b[0;31mValueError\u001b[0m                                Traceback (most recent call last)",
      "Cell \u001b[0;32mIn[64], line 1\u001b[0m\n\u001b[0;32m----> 1\u001b[0m \u001b[43mpoint\u001b[49m\u001b[38;5;241;43m.\u001b[39;49m\u001b[43mx\u001b[49m \u001b[38;5;241m=\u001b[39m \u001b[38;5;124m\"\u001b[39m\u001b[38;5;124mhola\u001b[39m\u001b[38;5;124m\"\u001b[39m\n",
      "Cell \u001b[0;32mIn[62], line 16\u001b[0m, in \u001b[0;36mPoint.x\u001b[0;34m(self, value)\u001b[0m\n\u001b[1;32m     14\u001b[0m     \u001b[38;5;28mprint\u001b[39m(\u001b[38;5;124m\"\u001b[39m\u001b[38;5;124mValidated!\u001b[39m\u001b[38;5;124m\"\u001b[39m)\n\u001b[1;32m     15\u001b[0m \u001b[38;5;28;01mexcept\u001b[39;00m \u001b[38;5;167;01mValueError\u001b[39;00m:\n\u001b[0;32m---> 16\u001b[0m     \u001b[38;5;28;01mraise\u001b[39;00m \u001b[38;5;167;01mValueError\u001b[39;00m(\u001b[38;5;124m'\u001b[39m\u001b[38;5;124m\"\u001b[39m\u001b[38;5;124mx\u001b[39m\u001b[38;5;124m\"\u001b[39m\u001b[38;5;124m must be a number\u001b[39m\u001b[38;5;124m'\u001b[39m) \u001b[38;5;28;01mfrom\u001b[39;00m \u001b[38;5;28;01mNone\u001b[39;00m\n",
      "\u001b[0;31mValueError\u001b[0m: \"x\" must be a number"
     ]
    }
   ],
   "source": [
    "point.x = \"hola\""
   ]
  },
  {
   "cell_type": "markdown",
   "id": "8ed30c25-0a0f-4531-a1e7-223682a4ed05",
   "metadata": {},
   "source": [
    "#### 2. Para agregar atributos que requieren algún calculo"
   ]
  },
  {
   "cell_type": "code",
   "execution_count": 65,
   "id": "bae30cc8-aea2-4bd4-94b7-144c07c64071",
   "metadata": {},
   "outputs": [],
   "source": [
    "class Rectangle:\n",
    "    def __init__(self, width, height):\n",
    "        self.width = width\n",
    "        self.height = height\n",
    "\n",
    "    @property\n",
    "    def area(self):\n",
    "        return self.width * self.height"
   ]
  },
  {
   "cell_type": "code",
   "execution_count": 66,
   "id": "169f003e-c25d-45de-8b0d-4b5510748caa",
   "metadata": {},
   "outputs": [],
   "source": [
    "rectangle = Rectangle(30, 50)"
   ]
  },
  {
   "cell_type": "code",
   "execution_count": 67,
   "id": "dd0705ed-2ca7-4730-8e02-6025ea5ee5d7",
   "metadata": {},
   "outputs": [
    {
     "data": {
      "text/plain": [
       "1500"
      ]
     },
     "execution_count": 67,
     "metadata": {},
     "output_type": "execute_result"
    }
   ],
   "source": [
    "rectangle.area"
   ]
  },
  {
   "cell_type": "markdown",
   "id": "f0a5e117-e51e-4445-b51a-169bcdc5576a",
   "metadata": {},
   "source": [
    "## Métodos de instancia, métodos de clase y métodos estáticos\n",
    "Los **métodos de instancia** son creados para modificar un objeto instanciado de una clase.\n",
    "\n",
    "Los **métodos de clase** trabajan directamente con la clase, desde que su parámetro es la clase en sí.\n",
    "\n",
    "Los **métodos estáticos** no saben nada acerca de la clase, solo trabajan con los parámetros recibidos."
   ]
  },
  {
   "cell_type": "code",
   "execution_count": 68,
   "id": "6178572f-4efb-4aec-9764-bbc8e4db796a",
   "metadata": {},
   "outputs": [],
   "source": [
    "class MyClass:\n",
    "    def method(self):\n",
    "        \"\"\" Instance method \"\"\"\n",
    "        return 'instance method called', self\n",
    "\n",
    "    @classmethod\n",
    "    def class_method(cls):\n",
    "        \"\"\" Class method \"\"\"\n",
    "        return 'class method called', cls\n",
    "\n",
    "    @staticmethod\n",
    "    def static_method():\n",
    "        \"\"\" Static method \"\"\"\n",
    "        return 'static method called'"
   ]
  },
  {
   "cell_type": "code",
   "execution_count": 69,
   "id": "d306a441-7ff4-4220-a58e-bcb33179a3c2",
   "metadata": {},
   "outputs": [],
   "source": [
    "obj = MyClass()"
   ]
  },
  {
   "cell_type": "code",
   "execution_count": 70,
   "id": "c63f2d66-81d1-401f-bb87-a1a961da52bf",
   "metadata": {},
   "outputs": [
    {
     "data": {
      "text/plain": [
       "('instance method called', <__main__.MyClass at 0x10668ea90>)"
      ]
     },
     "execution_count": 70,
     "metadata": {},
     "output_type": "execute_result"
    }
   ],
   "source": [
    "obj.method()"
   ]
  },
  {
   "cell_type": "code",
   "execution_count": 71,
   "id": "75dc1e77-0c1e-44cf-a4ca-cb52d748564d",
   "metadata": {},
   "outputs": [
    {
     "data": {
      "text/plain": [
       "('instance method called', <__main__.MyClass at 0x10668ea90>)"
      ]
     },
     "execution_count": 71,
     "metadata": {},
     "output_type": "execute_result"
    }
   ],
   "source": [
    "MyClass.method(obj)"
   ]
  },
  {
   "cell_type": "code",
   "execution_count": 72,
   "id": "6d8dc0da-df16-4324-80f7-126180a11feb",
   "metadata": {},
   "outputs": [
    {
     "data": {
      "text/plain": [
       "('class method called', __main__.MyClass)"
      ]
     },
     "execution_count": 72,
     "metadata": {},
     "output_type": "execute_result"
    }
   ],
   "source": [
    "obj.class_method()"
   ]
  },
  {
   "cell_type": "code",
   "execution_count": 73,
   "id": "7e055b0d-2f18-43c4-885f-f3120eaa8860",
   "metadata": {},
   "outputs": [
    {
     "data": {
      "text/plain": [
       "'static method called'"
      ]
     },
     "execution_count": 73,
     "metadata": {},
     "output_type": "execute_result"
    }
   ],
   "source": [
    "obj.static_method()"
   ]
  },
  {
   "cell_type": "markdown",
   "id": "1703785b-4a52-451c-94e1-b1bd4067ee54",
   "metadata": {},
   "source": [
    "### ¿Qué pasa si accedemos a los metodos sin instanciar un objeto de la clase?\n"
   ]
  },
  {
   "cell_type": "code",
   "execution_count": 74,
   "id": "6f5390b3-8bef-4ac2-a71c-1c524ae266e2",
   "metadata": {},
   "outputs": [
    {
     "data": {
      "text/plain": [
       "('class method called', __main__.MyClass)"
      ]
     },
     "execution_count": 74,
     "metadata": {},
     "output_type": "execute_result"
    }
   ],
   "source": [
    "MyClass.class_method()"
   ]
  },
  {
   "cell_type": "code",
   "execution_count": 75,
   "id": "40e95922-40dd-47f8-875c-4f33479395a4",
   "metadata": {},
   "outputs": [
    {
     "data": {
      "text/plain": [
       "'static method called'"
      ]
     },
     "execution_count": 75,
     "metadata": {},
     "output_type": "execute_result"
    }
   ],
   "source": [
    "MyClass.static_method()"
   ]
  },
  {
   "cell_type": "code",
   "execution_count": 76,
   "id": "68e8e0b2-5f1b-4175-a0df-05df66f547f5",
   "metadata": {},
   "outputs": [
    {
     "ename": "TypeError",
     "evalue": "MyClass.method() missing 1 required positional argument: 'self'",
     "output_type": "error",
     "traceback": [
      "\u001b[0;31m---------------------------------------------------------------------------\u001b[0m",
      "\u001b[0;31mTypeError\u001b[0m                                 Traceback (most recent call last)",
      "Cell \u001b[0;32mIn[76], line 1\u001b[0m\n\u001b[0;32m----> 1\u001b[0m \u001b[43mMyClass\u001b[49m\u001b[38;5;241;43m.\u001b[39;49m\u001b[43mmethod\u001b[49m\u001b[43m(\u001b[49m\u001b[43m)\u001b[49m\n",
      "\u001b[0;31mTypeError\u001b[0m: MyClass.method() missing 1 required positional argument: 'self'"
     ]
    }
   ],
   "source": [
    "MyClass.method()"
   ]
  },
  {
   "cell_type": "markdown",
   "id": "638a2132-dcde-41f1-a9b6-db5fc91294c1",
   "metadata": {},
   "source": [
    "### Ejemplos de uso"
   ]
  },
  {
   "cell_type": "code",
   "execution_count": 77,
   "id": "c6931fa3-c9f8-493b-9b2d-6d3a3fbb8d73",
   "metadata": {},
   "outputs": [],
   "source": [
    "class Pizza:\n",
    "    def __init__(self, ingredients):\n",
    "        self.ingredients = ingredients\n",
    "\n",
    "    def __repr__(self):\n",
    "        return f'Pizza({self.ingredients})'"
   ]
  },
  {
   "cell_type": "code",
   "execution_count": 78,
   "id": "cb3baca9-e3ec-4f93-8bf3-5f4670e15e00",
   "metadata": {},
   "outputs": [],
   "source": [
    "margherita = Pizza(['mozzarella', 'tomatoes'])\n",
    "cheese = Pizza(['mozzarella', 'provolone', 'cheddar', 'Parmesan'])"
   ]
  },
  {
   "cell_type": "code",
   "execution_count": 79,
   "id": "e88848fa-1245-4dd6-8d0c-ad16ffe24ad0",
   "metadata": {},
   "outputs": [
    {
     "data": {
      "text/plain": [
       "Pizza(['mozzarella', 'tomatoes'])"
      ]
     },
     "execution_count": 79,
     "metadata": {},
     "output_type": "execute_result"
    }
   ],
   "source": [
    "margherita"
   ]
  },
  {
   "cell_type": "code",
   "execution_count": 80,
   "id": "5cee1c8c-069b-40c4-94d3-6191a271b61e",
   "metadata": {},
   "outputs": [
    {
     "data": {
      "text/plain": [
       "Pizza(['mozzarella', 'provolone', 'cheddar', 'Parmesan'])"
      ]
     },
     "execution_count": 80,
     "metadata": {},
     "output_type": "execute_result"
    }
   ],
   "source": [
    "cheese"
   ]
  },
  {
   "cell_type": "code",
   "execution_count": 81,
   "id": "2856be27-0c08-4b87-93de-fd804ce9032d",
   "metadata": {},
   "outputs": [],
   "source": [
    "class Pizza:\n",
    "    def __init__(self, ingredients):\n",
    "        self.ingredients = ingredients\n",
    "\n",
    "    def __repr__(self):\n",
    "        return f'Pizza({self.ingredients})'\n",
    "    \n",
    "    def create_custom_pizza(self, ingredients):\n",
    "        self.ingredients = ingredients\n",
    "        return self\n",
    "\n",
    "    @classmethod\n",
    "    def margherita(cls):\n",
    "        return cls(['mozzarella', 'tomatoes'])\n",
    "\n",
    "    @classmethod\n",
    "    def cheese(cls):\n",
    "        return cls(['mozzarella', 'provolone', 'cheddar', 'Parmesan'])"
   ]
  },
  {
   "cell_type": "code",
   "execution_count": 82,
   "id": "0efffa5a-c804-4218-b6ae-552336337570",
   "metadata": {},
   "outputs": [
    {
     "data": {
      "text/plain": [
       "Pizza(['mozzarella', 'tomatoes'])"
      ]
     },
     "execution_count": 82,
     "metadata": {},
     "output_type": "execute_result"
    }
   ],
   "source": [
    "Pizza.margherita()"
   ]
  },
  {
   "cell_type": "code",
   "execution_count": 83,
   "id": "f46dafc9-c125-4571-b418-044eff982b68",
   "metadata": {},
   "outputs": [
    {
     "data": {
      "text/plain": [
       "Pizza(['mozzarella', 'provolone', 'cheddar', 'Parmesan'])"
      ]
     },
     "execution_count": 83,
     "metadata": {},
     "output_type": "execute_result"
    }
   ],
   "source": [
    "Pizza.cheese()"
   ]
  },
  {
   "cell_type": "code",
   "execution_count": 84,
   "id": "8e4b6894-f33e-48fb-8a03-704ee7fd006b",
   "metadata": {},
   "outputs": [],
   "source": [
    "first_pizza = Pizza([])"
   ]
  },
  {
   "cell_type": "code",
   "execution_count": 85,
   "id": "c744f33f-3e55-4a2e-9800-75de111776c1",
   "metadata": {},
   "outputs": [
    {
     "data": {
      "text/plain": [
       "[]"
      ]
     },
     "execution_count": 85,
     "metadata": {},
     "output_type": "execute_result"
    }
   ],
   "source": [
    "first_pizza.ingredients"
   ]
  },
  {
   "cell_type": "code",
   "execution_count": 86,
   "id": "f31c278e-b114-47b7-8075-b42a74585075",
   "metadata": {},
   "outputs": [
    {
     "data": {
      "text/plain": [
       "Pizza(['chicken', 'mozzarella'])"
      ]
     },
     "execution_count": 86,
     "metadata": {},
     "output_type": "execute_result"
    }
   ],
   "source": [
    "first_pizza.create_custom_pizza(['chicken', 'mozzarella'])"
   ]
  },
  {
   "cell_type": "code",
   "execution_count": 87,
   "id": "4097f3d9-7fae-4c67-b6f1-30b3aadd5956",
   "metadata": {},
   "outputs": [
    {
     "data": {
      "text/plain": [
       "Pizza(['mozzarella', 'tomatoes'])"
      ]
     },
     "execution_count": 87,
     "metadata": {},
     "output_type": "execute_result"
    }
   ],
   "source": [
    "# Podemos mostrar los metodos de clase asociados a la clase Pizza sin cambiar el comportamiento de la instancia\n",
    "first_pizza.margherita()"
   ]
  },
  {
   "cell_type": "code",
   "execution_count": 88,
   "id": "ffad901d-fd1d-4ef4-83c6-a5acca1efb95",
   "metadata": {},
   "outputs": [
    {
     "data": {
      "text/plain": [
       "['chicken', 'mozzarella']"
      ]
     },
     "execution_count": 88,
     "metadata": {},
     "output_type": "execute_result"
    }
   ],
   "source": [
    "first_pizza.ingredients"
   ]
  },
  {
   "cell_type": "code",
   "execution_count": 89,
   "id": "713b7abf-743d-4e04-98b6-a0ddf2fd4c51",
   "metadata": {},
   "outputs": [],
   "source": [
    "# Usando metodos estáticos\n",
    "import math\n",
    "\n",
    "class Pizza:\n",
    "    def __init__(self, radius, ingredients):\n",
    "        self.radius = radius\n",
    "        self.ingredients = ingredients\n",
    "\n",
    "    def __repr__(self):\n",
    "        return (f'Pizza({self.radius}, '\n",
    "                f'{self.ingredients})')\n",
    "\n",
    "    def area(self):\n",
    "        return self.circle_area(self.radius)\n",
    "\n",
    "    @staticmethod\n",
    "    def circle_area(r):\n",
    "        return r ** 2 * math.pi"
   ]
  },
  {
   "cell_type": "code",
   "execution_count": 90,
   "id": "5a65b11b-c4ea-43b5-a1a0-072d5a157bf1",
   "metadata": {},
   "outputs": [],
   "source": [
    "p = Pizza(4, ['mozzarella', 'tomatoes'])"
   ]
  },
  {
   "cell_type": "code",
   "execution_count": 91,
   "id": "2ba20bad-b61f-45cd-9b06-6ad3463bcfa8",
   "metadata": {},
   "outputs": [
    {
     "data": {
      "text/plain": [
       "50.26548245743669"
      ]
     },
     "execution_count": 91,
     "metadata": {},
     "output_type": "execute_result"
    }
   ],
   "source": [
    "p.area()"
   ]
  },
  {
   "cell_type": "code",
   "execution_count": 92,
   "id": "d6a8fa9c-aa5f-4329-8509-7babfee6ea3c",
   "metadata": {},
   "outputs": [
    {
     "data": {
      "text/plain": [
       "50.26548245743669"
      ]
     },
     "execution_count": 92,
     "metadata": {},
     "output_type": "execute_result"
    }
   ],
   "source": [
    "Pizza.circle_area(4)"
   ]
  },
  {
   "cell_type": "code",
   "execution_count": 93,
   "id": "f20cdbca-5b67-4aad-88de-2500d1a727b8",
   "metadata": {},
   "outputs": [
    {
     "data": {
      "text/plain": [
       "78.53981633974483"
      ]
     },
     "execution_count": 93,
     "metadata": {},
     "output_type": "execute_result"
    }
   ],
   "source": [
    "Pizza.circle_area(5)"
   ]
  },
  {
   "cell_type": "code",
   "execution_count": 94,
   "id": "4f9ed85b-7b0b-40e3-b18a-9379fea74edd",
   "metadata": {},
   "outputs": [
    {
     "data": {
      "text/plain": [
       "50.26548245743669"
      ]
     },
     "execution_count": 94,
     "metadata": {},
     "output_type": "execute_result"
    }
   ],
   "source": [
    "p.area()"
   ]
  },
  {
   "cell_type": "code",
   "execution_count": null,
   "id": "8d3a0140-ef95-4c10-832a-ee0d086150f1",
   "metadata": {},
   "outputs": [],
   "source": []
  }
 ],
 "metadata": {
  "kernelspec": {
   "display_name": "Python 3 (ipykernel)",
   "language": "python",
   "name": "python3"
  },
  "language_info": {
   "codemirror_mode": {
    "name": "ipython",
    "version": 3
   },
   "file_extension": ".py",
   "mimetype": "text/x-python",
   "name": "python",
   "nbconvert_exporter": "python",
   "pygments_lexer": "ipython3",
   "version": "3.11.4"
  }
 },
 "nbformat": 4,
 "nbformat_minor": 5
}
